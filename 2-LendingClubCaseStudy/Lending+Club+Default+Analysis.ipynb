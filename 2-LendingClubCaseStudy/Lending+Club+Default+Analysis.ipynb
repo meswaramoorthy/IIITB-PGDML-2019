{
 "cells": [
  {
   "cell_type": "markdown",
   "metadata": {},
   "source": [
    "# Lending Club Default Analysis\n",
    "\n",
    "The analysis is divided into four main parts:\n",
    "1. Data understanding \n",
    "2. Data cleaning (cleaning missing values, removing redundant columns etc.)\n",
    "3. Data Analysis \n",
    "4. Recommendations\n"
   ]
  },
  {
   "cell_type": "code",
   "execution_count": 1,
   "metadata": {},
   "outputs": [
    {
     "name": "stdout",
     "output_type": "stream",
     "text": [
      "<class 'pandas.core.frame.DataFrame'>\n",
      "RangeIndex: 39717 entries, 0 to 39716\n",
      "Columns: 111 entries, id to total_il_high_credit_limit\n",
      "dtypes: float64(74), int64(13), object(24)\n",
      "memory usage: 33.6+ MB\n"
     ]
    },
    {
     "name": "stderr",
     "output_type": "stream",
     "text": [
      "C:\\Users\\padma\\Anaconda3\\lib\\site-packages\\IPython\\core\\interactiveshell.py:3049: DtypeWarning: Columns (47) have mixed types. Specify dtype option on import or set low_memory=False.\n",
      "  interactivity=interactivity, compiler=compiler, result=result)\n"
     ]
    }
   ],
   "source": [
    "import numpy as np\n",
    "import pandas as pd\n",
    "import matplotlib.pyplot as plt\n",
    "import seaborn as sns\n",
    "\n",
    "loan = pd.read_csv(\"loan.csv\", sep=\",\")\n",
    "loan.info()"
   ]
  },
  {
   "cell_type": "markdown",
   "metadata": {},
   "source": [
    "## Data Understanding"
   ]
  },
  {
   "cell_type": "code",
   "execution_count": 2,
   "metadata": {},
   "outputs": [
    {
     "data": {
      "text/html": [
       "<div>\n",
       "<style scoped>\n",
       "    .dataframe tbody tr th:only-of-type {\n",
       "        vertical-align: middle;\n",
       "    }\n",
       "\n",
       "    .dataframe tbody tr th {\n",
       "        vertical-align: top;\n",
       "    }\n",
       "\n",
       "    .dataframe thead th {\n",
       "        text-align: right;\n",
       "    }\n",
       "</style>\n",
       "<table border=\"1\" class=\"dataframe\">\n",
       "  <thead>\n",
       "    <tr style=\"text-align: right;\">\n",
       "      <th></th>\n",
       "      <th>id</th>\n",
       "      <th>member_id</th>\n",
       "      <th>loan_amnt</th>\n",
       "      <th>funded_amnt</th>\n",
       "      <th>funded_amnt_inv</th>\n",
       "      <th>term</th>\n",
       "      <th>int_rate</th>\n",
       "      <th>installment</th>\n",
       "      <th>grade</th>\n",
       "      <th>sub_grade</th>\n",
       "      <th>...</th>\n",
       "      <th>num_tl_90g_dpd_24m</th>\n",
       "      <th>num_tl_op_past_12m</th>\n",
       "      <th>pct_tl_nvr_dlq</th>\n",
       "      <th>percent_bc_gt_75</th>\n",
       "      <th>pub_rec_bankruptcies</th>\n",
       "      <th>tax_liens</th>\n",
       "      <th>tot_hi_cred_lim</th>\n",
       "      <th>total_bal_ex_mort</th>\n",
       "      <th>total_bc_limit</th>\n",
       "      <th>total_il_high_credit_limit</th>\n",
       "    </tr>\n",
       "  </thead>\n",
       "  <tbody>\n",
       "    <tr>\n",
       "      <th>0</th>\n",
       "      <td>1077501</td>\n",
       "      <td>1296599</td>\n",
       "      <td>5000</td>\n",
       "      <td>5000</td>\n",
       "      <td>4975.0</td>\n",
       "      <td>36 months</td>\n",
       "      <td>10.65%</td>\n",
       "      <td>162.87</td>\n",
       "      <td>B</td>\n",
       "      <td>B2</td>\n",
       "      <td>...</td>\n",
       "      <td>NaN</td>\n",
       "      <td>NaN</td>\n",
       "      <td>NaN</td>\n",
       "      <td>NaN</td>\n",
       "      <td>0.0</td>\n",
       "      <td>0.0</td>\n",
       "      <td>NaN</td>\n",
       "      <td>NaN</td>\n",
       "      <td>NaN</td>\n",
       "      <td>NaN</td>\n",
       "    </tr>\n",
       "    <tr>\n",
       "      <th>1</th>\n",
       "      <td>1077430</td>\n",
       "      <td>1314167</td>\n",
       "      <td>2500</td>\n",
       "      <td>2500</td>\n",
       "      <td>2500.0</td>\n",
       "      <td>60 months</td>\n",
       "      <td>15.27%</td>\n",
       "      <td>59.83</td>\n",
       "      <td>C</td>\n",
       "      <td>C4</td>\n",
       "      <td>...</td>\n",
       "      <td>NaN</td>\n",
       "      <td>NaN</td>\n",
       "      <td>NaN</td>\n",
       "      <td>NaN</td>\n",
       "      <td>0.0</td>\n",
       "      <td>0.0</td>\n",
       "      <td>NaN</td>\n",
       "      <td>NaN</td>\n",
       "      <td>NaN</td>\n",
       "      <td>NaN</td>\n",
       "    </tr>\n",
       "    <tr>\n",
       "      <th>2</th>\n",
       "      <td>1077175</td>\n",
       "      <td>1313524</td>\n",
       "      <td>2400</td>\n",
       "      <td>2400</td>\n",
       "      <td>2400.0</td>\n",
       "      <td>36 months</td>\n",
       "      <td>15.96%</td>\n",
       "      <td>84.33</td>\n",
       "      <td>C</td>\n",
       "      <td>C5</td>\n",
       "      <td>...</td>\n",
       "      <td>NaN</td>\n",
       "      <td>NaN</td>\n",
       "      <td>NaN</td>\n",
       "      <td>NaN</td>\n",
       "      <td>0.0</td>\n",
       "      <td>0.0</td>\n",
       "      <td>NaN</td>\n",
       "      <td>NaN</td>\n",
       "      <td>NaN</td>\n",
       "      <td>NaN</td>\n",
       "    </tr>\n",
       "    <tr>\n",
       "      <th>3</th>\n",
       "      <td>1076863</td>\n",
       "      <td>1277178</td>\n",
       "      <td>10000</td>\n",
       "      <td>10000</td>\n",
       "      <td>10000.0</td>\n",
       "      <td>36 months</td>\n",
       "      <td>13.49%</td>\n",
       "      <td>339.31</td>\n",
       "      <td>C</td>\n",
       "      <td>C1</td>\n",
       "      <td>...</td>\n",
       "      <td>NaN</td>\n",
       "      <td>NaN</td>\n",
       "      <td>NaN</td>\n",
       "      <td>NaN</td>\n",
       "      <td>0.0</td>\n",
       "      <td>0.0</td>\n",
       "      <td>NaN</td>\n",
       "      <td>NaN</td>\n",
       "      <td>NaN</td>\n",
       "      <td>NaN</td>\n",
       "    </tr>\n",
       "    <tr>\n",
       "      <th>4</th>\n",
       "      <td>1075358</td>\n",
       "      <td>1311748</td>\n",
       "      <td>3000</td>\n",
       "      <td>3000</td>\n",
       "      <td>3000.0</td>\n",
       "      <td>60 months</td>\n",
       "      <td>12.69%</td>\n",
       "      <td>67.79</td>\n",
       "      <td>B</td>\n",
       "      <td>B5</td>\n",
       "      <td>...</td>\n",
       "      <td>NaN</td>\n",
       "      <td>NaN</td>\n",
       "      <td>NaN</td>\n",
       "      <td>NaN</td>\n",
       "      <td>0.0</td>\n",
       "      <td>0.0</td>\n",
       "      <td>NaN</td>\n",
       "      <td>NaN</td>\n",
       "      <td>NaN</td>\n",
       "      <td>NaN</td>\n",
       "    </tr>\n",
       "  </tbody>\n",
       "</table>\n",
       "<p>5 rows × 111 columns</p>\n",
       "</div>"
      ],
      "text/plain": [
       "        id  member_id  loan_amnt  funded_amnt  funded_amnt_inv        term  \\\n",
       "0  1077501    1296599       5000         5000           4975.0   36 months   \n",
       "1  1077430    1314167       2500         2500           2500.0   60 months   \n",
       "2  1077175    1313524       2400         2400           2400.0   36 months   \n",
       "3  1076863    1277178      10000        10000          10000.0   36 months   \n",
       "4  1075358    1311748       3000         3000           3000.0   60 months   \n",
       "\n",
       "  int_rate  installment grade sub_grade  ... num_tl_90g_dpd_24m  \\\n",
       "0   10.65%       162.87     B        B2  ...                NaN   \n",
       "1   15.27%        59.83     C        C4  ...                NaN   \n",
       "2   15.96%        84.33     C        C5  ...                NaN   \n",
       "3   13.49%       339.31     C        C1  ...                NaN   \n",
       "4   12.69%        67.79     B        B5  ...                NaN   \n",
       "\n",
       "  num_tl_op_past_12m pct_tl_nvr_dlq  percent_bc_gt_75 pub_rec_bankruptcies  \\\n",
       "0                NaN            NaN               NaN                  0.0   \n",
       "1                NaN            NaN               NaN                  0.0   \n",
       "2                NaN            NaN               NaN                  0.0   \n",
       "3                NaN            NaN               NaN                  0.0   \n",
       "4                NaN            NaN               NaN                  0.0   \n",
       "\n",
       "  tax_liens tot_hi_cred_lim total_bal_ex_mort total_bc_limit  \\\n",
       "0       0.0             NaN               NaN            NaN   \n",
       "1       0.0             NaN               NaN            NaN   \n",
       "2       0.0             NaN               NaN            NaN   \n",
       "3       0.0             NaN               NaN            NaN   \n",
       "4       0.0             NaN               NaN            NaN   \n",
       "\n",
       "  total_il_high_credit_limit  \n",
       "0                        NaN  \n",
       "1                        NaN  \n",
       "2                        NaN  \n",
       "3                        NaN  \n",
       "4                        NaN  \n",
       "\n",
       "[5 rows x 111 columns]"
      ]
     },
     "execution_count": 2,
     "metadata": {},
     "output_type": "execute_result"
    }
   ],
   "source": [
    "# let's look at the first few rows of the df\n",
    "loan.head()"
   ]
  },
  {
   "cell_type": "code",
   "execution_count": 3,
   "metadata": {},
   "outputs": [
    {
     "data": {
      "text/plain": [
       "Index(['id', 'member_id', 'loan_amnt', 'funded_amnt', 'funded_amnt_inv',\n",
       "       'term', 'int_rate', 'installment', 'grade', 'sub_grade',\n",
       "       ...\n",
       "       'num_tl_90g_dpd_24m', 'num_tl_op_past_12m', 'pct_tl_nvr_dlq',\n",
       "       'percent_bc_gt_75', 'pub_rec_bankruptcies', 'tax_liens',\n",
       "       'tot_hi_cred_lim', 'total_bal_ex_mort', 'total_bc_limit',\n",
       "       'total_il_high_credit_limit'],\n",
       "      dtype='object', length=111)"
      ]
     },
     "execution_count": 3,
     "metadata": {},
     "output_type": "execute_result"
    }
   ],
   "source": [
    "# Looking at all the column names\n",
    "loan.columns"
   ]
  },
  {
   "cell_type": "markdown",
   "metadata": {},
   "source": [
    "Some of the important columns in the dataset are loan_amount, term, interest rate, grade, sub grade, annual income, purpose of the loan etc.\n",
    "\n",
    "The **target variable**, which we want to compare across the independent variables, is loan status. The strategy is to figure out compare the average default rates across various independent variables and identify the  ones that affect default rate the most.\n",
    "\n"
   ]
  },
  {
   "cell_type": "markdown",
   "metadata": {},
   "source": [
    "# Data Cleaning\n",
    "\n",
    "Some columns have a large number of missing values, let's first fix the missing values and then check for other types of data quality problems."
   ]
  },
  {
   "cell_type": "code",
   "execution_count": 4,
   "metadata": {},
   "outputs": [
    {
     "data": {
      "text/plain": [
       "id                                    0\n",
       "member_id                             0\n",
       "loan_amnt                             0\n",
       "funded_amnt                           0\n",
       "funded_amnt_inv                       0\n",
       "term                                  0\n",
       "int_rate                              0\n",
       "installment                           0\n",
       "grade                                 0\n",
       "sub_grade                             0\n",
       "emp_title                          2459\n",
       "emp_length                         1075\n",
       "home_ownership                        0\n",
       "annual_inc                            0\n",
       "verification_status                   0\n",
       "issue_d                               0\n",
       "loan_status                           0\n",
       "pymnt_plan                            0\n",
       "url                                   0\n",
       "desc                              12940\n",
       "purpose                               0\n",
       "title                                11\n",
       "zip_code                              0\n",
       "addr_state                            0\n",
       "dti                                   0\n",
       "delinq_2yrs                           0\n",
       "earliest_cr_line                      0\n",
       "inq_last_6mths                        0\n",
       "mths_since_last_delinq            25682\n",
       "mths_since_last_record            36931\n",
       "                                  ...  \n",
       "mo_sin_old_rev_tl_op              39717\n",
       "mo_sin_rcnt_rev_tl_op             39717\n",
       "mo_sin_rcnt_tl                    39717\n",
       "mort_acc                          39717\n",
       "mths_since_recent_bc              39717\n",
       "mths_since_recent_bc_dlq          39717\n",
       "mths_since_recent_inq             39717\n",
       "mths_since_recent_revol_delinq    39717\n",
       "num_accts_ever_120_pd             39717\n",
       "num_actv_bc_tl                    39717\n",
       "num_actv_rev_tl                   39717\n",
       "num_bc_sats                       39717\n",
       "num_bc_tl                         39717\n",
       "num_il_tl                         39717\n",
       "num_op_rev_tl                     39717\n",
       "num_rev_accts                     39717\n",
       "num_rev_tl_bal_gt_0               39717\n",
       "num_sats                          39717\n",
       "num_tl_120dpd_2m                  39717\n",
       "num_tl_30dpd                      39717\n",
       "num_tl_90g_dpd_24m                39717\n",
       "num_tl_op_past_12m                39717\n",
       "pct_tl_nvr_dlq                    39717\n",
       "percent_bc_gt_75                  39717\n",
       "pub_rec_bankruptcies                697\n",
       "tax_liens                            39\n",
       "tot_hi_cred_lim                   39717\n",
       "total_bal_ex_mort                 39717\n",
       "total_bc_limit                    39717\n",
       "total_il_high_credit_limit        39717\n",
       "Length: 111, dtype: int64"
      ]
     },
     "execution_count": 4,
     "metadata": {},
     "output_type": "execute_result"
    }
   ],
   "source": [
    "# summarising number of missing values in each column\n",
    "loan.isnull().sum()"
   ]
  },
  {
   "cell_type": "code",
   "execution_count": 5,
   "metadata": {},
   "outputs": [
    {
     "data": {
      "text/plain": [
       "id                                  0.0\n",
       "member_id                           0.0\n",
       "loan_amnt                           0.0\n",
       "funded_amnt                         0.0\n",
       "funded_amnt_inv                     0.0\n",
       "term                                0.0\n",
       "int_rate                            0.0\n",
       "installment                         0.0\n",
       "grade                               0.0\n",
       "sub_grade                           0.0\n",
       "emp_title                           6.0\n",
       "emp_length                          3.0\n",
       "home_ownership                      0.0\n",
       "annual_inc                          0.0\n",
       "verification_status                 0.0\n",
       "issue_d                             0.0\n",
       "loan_status                         0.0\n",
       "pymnt_plan                          0.0\n",
       "url                                 0.0\n",
       "desc                               33.0\n",
       "purpose                             0.0\n",
       "title                               0.0\n",
       "zip_code                            0.0\n",
       "addr_state                          0.0\n",
       "dti                                 0.0\n",
       "delinq_2yrs                         0.0\n",
       "earliest_cr_line                    0.0\n",
       "inq_last_6mths                      0.0\n",
       "mths_since_last_delinq             65.0\n",
       "mths_since_last_record             93.0\n",
       "                                  ...  \n",
       "mo_sin_old_rev_tl_op              100.0\n",
       "mo_sin_rcnt_rev_tl_op             100.0\n",
       "mo_sin_rcnt_tl                    100.0\n",
       "mort_acc                          100.0\n",
       "mths_since_recent_bc              100.0\n",
       "mths_since_recent_bc_dlq          100.0\n",
       "mths_since_recent_inq             100.0\n",
       "mths_since_recent_revol_delinq    100.0\n",
       "num_accts_ever_120_pd             100.0\n",
       "num_actv_bc_tl                    100.0\n",
       "num_actv_rev_tl                   100.0\n",
       "num_bc_sats                       100.0\n",
       "num_bc_tl                         100.0\n",
       "num_il_tl                         100.0\n",
       "num_op_rev_tl                     100.0\n",
       "num_rev_accts                     100.0\n",
       "num_rev_tl_bal_gt_0               100.0\n",
       "num_sats                          100.0\n",
       "num_tl_120dpd_2m                  100.0\n",
       "num_tl_30dpd                      100.0\n",
       "num_tl_90g_dpd_24m                100.0\n",
       "num_tl_op_past_12m                100.0\n",
       "pct_tl_nvr_dlq                    100.0\n",
       "percent_bc_gt_75                  100.0\n",
       "pub_rec_bankruptcies                2.0\n",
       "tax_liens                           0.0\n",
       "tot_hi_cred_lim                   100.0\n",
       "total_bal_ex_mort                 100.0\n",
       "total_bc_limit                    100.0\n",
       "total_il_high_credit_limit        100.0\n",
       "Length: 111, dtype: float64"
      ]
     },
     "execution_count": 5,
     "metadata": {},
     "output_type": "execute_result"
    }
   ],
   "source": [
    "# percentage of missing values in each column\n",
    "round(loan.isnull().sum()/len(loan.index), 2)*100"
   ]
  },
  {
   "cell_type": "markdown",
   "metadata": {},
   "source": [
    "You can see that many columns have 100% missing values, some have 65%, 33% etc. First, let's get rid of the columns having 100% missing values."
   ]
  },
  {
   "cell_type": "code",
   "execution_count": 6,
   "metadata": {},
   "outputs": [
    {
     "name": "stdout",
     "output_type": "stream",
     "text": [
      "Index(['mths_since_last_record', 'next_pymnt_d', 'mths_since_last_major_derog',\n",
      "       'annual_inc_joint', 'dti_joint', 'verification_status_joint',\n",
      "       'tot_coll_amt', 'tot_cur_bal', 'open_acc_6m', 'open_il_6m',\n",
      "       'open_il_12m', 'open_il_24m', 'mths_since_rcnt_il', 'total_bal_il',\n",
      "       'il_util', 'open_rv_12m', 'open_rv_24m', 'max_bal_bc', 'all_util',\n",
      "       'total_rev_hi_lim', 'inq_fi', 'total_cu_tl', 'inq_last_12m',\n",
      "       'acc_open_past_24mths', 'avg_cur_bal', 'bc_open_to_buy', 'bc_util',\n",
      "       'mo_sin_old_il_acct', 'mo_sin_old_rev_tl_op', 'mo_sin_rcnt_rev_tl_op',\n",
      "       'mo_sin_rcnt_tl', 'mort_acc', 'mths_since_recent_bc',\n",
      "       'mths_since_recent_bc_dlq', 'mths_since_recent_inq',\n",
      "       'mths_since_recent_revol_delinq', 'num_accts_ever_120_pd',\n",
      "       'num_actv_bc_tl', 'num_actv_rev_tl', 'num_bc_sats', 'num_bc_tl',\n",
      "       'num_il_tl', 'num_op_rev_tl', 'num_rev_accts', 'num_rev_tl_bal_gt_0',\n",
      "       'num_sats', 'num_tl_120dpd_2m', 'num_tl_30dpd', 'num_tl_90g_dpd_24m',\n",
      "       'num_tl_op_past_12m', 'pct_tl_nvr_dlq', 'percent_bc_gt_75',\n",
      "       'tot_hi_cred_lim', 'total_bal_ex_mort', 'total_bc_limit',\n",
      "       'total_il_high_credit_limit'],\n",
      "      dtype='object')\n"
     ]
    }
   ],
   "source": [
    "# removing the columns having more than 90% missing values\n",
    "missing_columns = loan.columns[100*(loan.isnull().sum()/len(loan.index)) > 90]\n",
    "print(missing_columns)"
   ]
  },
  {
   "cell_type": "code",
   "execution_count": 7,
   "metadata": {},
   "outputs": [
    {
     "name": "stdout",
     "output_type": "stream",
     "text": [
      "(39717, 55)\n"
     ]
    }
   ],
   "source": [
    "loan = loan.drop(missing_columns, axis=1)\n",
    "print(loan.shape)\n",
    "\n"
   ]
  },
  {
   "cell_type": "code",
   "execution_count": 8,
   "metadata": {},
   "outputs": [
    {
     "data": {
      "text/plain": [
       "id                             0.000000\n",
       "member_id                      0.000000\n",
       "loan_amnt                      0.000000\n",
       "funded_amnt                    0.000000\n",
       "funded_amnt_inv                0.000000\n",
       "term                           0.000000\n",
       "int_rate                       0.000000\n",
       "installment                    0.000000\n",
       "grade                          0.000000\n",
       "sub_grade                      0.000000\n",
       "emp_title                      6.191303\n",
       "emp_length                     2.706650\n",
       "home_ownership                 0.000000\n",
       "annual_inc                     0.000000\n",
       "verification_status            0.000000\n",
       "issue_d                        0.000000\n",
       "loan_status                    0.000000\n",
       "pymnt_plan                     0.000000\n",
       "url                            0.000000\n",
       "desc                          32.580507\n",
       "purpose                        0.000000\n",
       "title                          0.027696\n",
       "zip_code                       0.000000\n",
       "addr_state                     0.000000\n",
       "dti                            0.000000\n",
       "delinq_2yrs                    0.000000\n",
       "earliest_cr_line               0.000000\n",
       "inq_last_6mths                 0.000000\n",
       "mths_since_last_delinq        64.662487\n",
       "open_acc                       0.000000\n",
       "pub_rec                        0.000000\n",
       "revol_bal                      0.000000\n",
       "revol_util                     0.125891\n",
       "total_acc                      0.000000\n",
       "initial_list_status            0.000000\n",
       "out_prncp                      0.000000\n",
       "out_prncp_inv                  0.000000\n",
       "total_pymnt                    0.000000\n",
       "total_pymnt_inv                0.000000\n",
       "total_rec_prncp                0.000000\n",
       "total_rec_int                  0.000000\n",
       "total_rec_late_fee             0.000000\n",
       "recoveries                     0.000000\n",
       "collection_recovery_fee        0.000000\n",
       "last_pymnt_d                   0.178765\n",
       "last_pymnt_amnt                0.000000\n",
       "last_credit_pull_d             0.005036\n",
       "collections_12_mths_ex_med     0.140998\n",
       "policy_code                    0.000000\n",
       "application_type               0.000000\n",
       "acc_now_delinq                 0.000000\n",
       "chargeoff_within_12_mths       0.140998\n",
       "delinq_amnt                    0.000000\n",
       "pub_rec_bankruptcies           1.754916\n",
       "tax_liens                      0.098195\n",
       "dtype: float64"
      ]
     },
     "execution_count": 8,
     "metadata": {},
     "output_type": "execute_result"
    }
   ],
   "source": [
    "# summarise number of missing values again\n",
    "100*(loan.isnull().sum()/len(loan.index))"
   ]
  },
  {
   "cell_type": "code",
   "execution_count": 9,
   "metadata": {},
   "outputs": [
    {
     "data": {
      "text/html": [
       "<div>\n",
       "<style scoped>\n",
       "    .dataframe tbody tr th:only-of-type {\n",
       "        vertical-align: middle;\n",
       "    }\n",
       "\n",
       "    .dataframe tbody tr th {\n",
       "        vertical-align: top;\n",
       "    }\n",
       "\n",
       "    .dataframe thead th {\n",
       "        text-align: right;\n",
       "    }\n",
       "</style>\n",
       "<table border=\"1\" class=\"dataframe\">\n",
       "  <thead>\n",
       "    <tr style=\"text-align: right;\">\n",
       "      <th></th>\n",
       "      <th>desc</th>\n",
       "      <th>mths_since_last_delinq</th>\n",
       "    </tr>\n",
       "  </thead>\n",
       "  <tbody>\n",
       "    <tr>\n",
       "      <th>0</th>\n",
       "      <td>Borrower added on 12/22/11 &gt; I need to upgra...</td>\n",
       "      <td>NaN</td>\n",
       "    </tr>\n",
       "    <tr>\n",
       "      <th>1</th>\n",
       "      <td>Borrower added on 12/22/11 &gt; I plan to use t...</td>\n",
       "      <td>NaN</td>\n",
       "    </tr>\n",
       "    <tr>\n",
       "      <th>2</th>\n",
       "      <td>NaN</td>\n",
       "      <td>NaN</td>\n",
       "    </tr>\n",
       "    <tr>\n",
       "      <th>3</th>\n",
       "      <td>Borrower added on 12/21/11 &gt; to pay for prop...</td>\n",
       "      <td>35.0</td>\n",
       "    </tr>\n",
       "    <tr>\n",
       "      <th>4</th>\n",
       "      <td>Borrower added on 12/21/11 &gt; I plan on combi...</td>\n",
       "      <td>38.0</td>\n",
       "    </tr>\n",
       "  </tbody>\n",
       "</table>\n",
       "</div>"
      ],
      "text/plain": [
       "                                                desc  mths_since_last_delinq\n",
       "0    Borrower added on 12/22/11 > I need to upgra...                     NaN\n",
       "1    Borrower added on 12/22/11 > I plan to use t...                     NaN\n",
       "2                                                NaN                     NaN\n",
       "3    Borrower added on 12/21/11 > to pay for prop...                    35.0\n",
       "4    Borrower added on 12/21/11 > I plan on combi...                    38.0"
      ]
     },
     "execution_count": 9,
     "metadata": {},
     "output_type": "execute_result"
    }
   ],
   "source": [
    "# There are now 2 columns having approx 32 and 64% missing values - \n",
    "# description and months since last delinquent\n",
    "\n",
    "# let's have a look at a few entries in the columns\n",
    "loan.loc[:, ['desc', 'mths_since_last_delinq']].head()"
   ]
  },
  {
   "cell_type": "markdown",
   "metadata": {},
   "source": [
    "The column description contains the comments the applicant had written while applying for the loan. Although one can use some text analysis techniques to derive new features from this column (such as sentiment, number of positive/negative words etc.), we will not use this column in this analysis. \n",
    "\n",
    "Secondly, months since last delinquent represents the number months passed since the person last fell into the 90 DPD group. There is an important reason we shouldn't use this column in analysis - since at the time of loan application, we will not have this data (it gets generated months after the loan has been approved), it cannot be used as a predictor of default at the time of loan approval. \n",
    "\n",
    "Thus let's drop the two columns."
   ]
  },
  {
   "cell_type": "code",
   "execution_count": 10,
   "metadata": {},
   "outputs": [],
   "source": [
    "# dropping the two columns\n",
    "loan = loan.drop(['desc', 'mths_since_last_delinq'], axis=1)"
   ]
  },
  {
   "cell_type": "code",
   "execution_count": 11,
   "metadata": {},
   "outputs": [
    {
     "data": {
      "text/plain": [
       "id                            0.000000\n",
       "member_id                     0.000000\n",
       "loan_amnt                     0.000000\n",
       "funded_amnt                   0.000000\n",
       "funded_amnt_inv               0.000000\n",
       "term                          0.000000\n",
       "int_rate                      0.000000\n",
       "installment                   0.000000\n",
       "grade                         0.000000\n",
       "sub_grade                     0.000000\n",
       "emp_title                     6.191303\n",
       "emp_length                    2.706650\n",
       "home_ownership                0.000000\n",
       "annual_inc                    0.000000\n",
       "verification_status           0.000000\n",
       "issue_d                       0.000000\n",
       "loan_status                   0.000000\n",
       "pymnt_plan                    0.000000\n",
       "url                           0.000000\n",
       "purpose                       0.000000\n",
       "title                         0.027696\n",
       "zip_code                      0.000000\n",
       "addr_state                    0.000000\n",
       "dti                           0.000000\n",
       "delinq_2yrs                   0.000000\n",
       "earliest_cr_line              0.000000\n",
       "inq_last_6mths                0.000000\n",
       "open_acc                      0.000000\n",
       "pub_rec                       0.000000\n",
       "revol_bal                     0.000000\n",
       "revol_util                    0.125891\n",
       "total_acc                     0.000000\n",
       "initial_list_status           0.000000\n",
       "out_prncp                     0.000000\n",
       "out_prncp_inv                 0.000000\n",
       "total_pymnt                   0.000000\n",
       "total_pymnt_inv               0.000000\n",
       "total_rec_prncp               0.000000\n",
       "total_rec_int                 0.000000\n",
       "total_rec_late_fee            0.000000\n",
       "recoveries                    0.000000\n",
       "collection_recovery_fee       0.000000\n",
       "last_pymnt_d                  0.178765\n",
       "last_pymnt_amnt               0.000000\n",
       "last_credit_pull_d            0.005036\n",
       "collections_12_mths_ex_med    0.140998\n",
       "policy_code                   0.000000\n",
       "application_type              0.000000\n",
       "acc_now_delinq                0.000000\n",
       "chargeoff_within_12_mths      0.140998\n",
       "delinq_amnt                   0.000000\n",
       "pub_rec_bankruptcies          1.754916\n",
       "tax_liens                     0.098195\n",
       "dtype: float64"
      ]
     },
     "execution_count": 11,
     "metadata": {},
     "output_type": "execute_result"
    }
   ],
   "source": [
    "# summarise number of missing values again\n",
    "100*(loan.isnull().sum()/len(loan.index))"
   ]
  },
  {
   "cell_type": "markdown",
   "metadata": {},
   "source": [
    "There are some more columns with missing values, but let's ignore them for now (since we are ntot doing any modeling, we don't need to impute all missing values anyway). \n",
    "\n",
    "But let's check whether some rows have a large number of missing values."
   ]
  },
  {
   "cell_type": "code",
   "execution_count": 12,
   "metadata": {},
   "outputs": [
    {
     "data": {
      "text/plain": [
       "0        1\n",
       "1        0\n",
       "2        1\n",
       "3        0\n",
       "4        0\n",
       "5        0\n",
       "6        0\n",
       "7        0\n",
       "8        1\n",
       "9        0\n",
       "10       0\n",
       "11       0\n",
       "12       0\n",
       "13       0\n",
       "14       0\n",
       "15       0\n",
       "16       0\n",
       "17       0\n",
       "18       0\n",
       "19       0\n",
       "20       0\n",
       "21       0\n",
       "22       0\n",
       "23       0\n",
       "24       0\n",
       "25       0\n",
       "26       1\n",
       "27       0\n",
       "28       0\n",
       "29       0\n",
       "        ..\n",
       "39687    4\n",
       "39688    4\n",
       "39689    4\n",
       "39690    4\n",
       "39691    4\n",
       "39692    4\n",
       "39693    4\n",
       "39694    4\n",
       "39695    4\n",
       "39696    4\n",
       "39697    4\n",
       "39698    4\n",
       "39699    4\n",
       "39700    5\n",
       "39701    4\n",
       "39702    4\n",
       "39703    4\n",
       "39704    5\n",
       "39705    4\n",
       "39706    5\n",
       "39707    4\n",
       "39708    4\n",
       "39709    4\n",
       "39710    4\n",
       "39711    4\n",
       "39712    4\n",
       "39713    4\n",
       "39714    5\n",
       "39715    5\n",
       "39716    4\n",
       "Length: 39717, dtype: int64"
      ]
     },
     "execution_count": 12,
     "metadata": {},
     "output_type": "execute_result"
    }
   ],
   "source": [
    "# missing values in rows\n",
    "loan.isnull().sum(axis=1)"
   ]
  },
  {
   "cell_type": "code",
   "execution_count": 13,
   "metadata": {},
   "outputs": [
    {
     "data": {
      "text/plain": [
       "0"
      ]
     },
     "execution_count": 13,
     "metadata": {},
     "output_type": "execute_result"
    }
   ],
   "source": [
    "# checking whether some rows have more than 5 missing values\n",
    "len(loan[loan.isnull().sum(axis=1) > 5].index)"
   ]
  },
  {
   "cell_type": "markdown",
   "metadata": {},
   "source": [
    "The data looks clean by and large. Let's also check whether all columns are in the correct format."
   ]
  },
  {
   "cell_type": "code",
   "execution_count": 14,
   "metadata": {},
   "outputs": [
    {
     "name": "stdout",
     "output_type": "stream",
     "text": [
      "<class 'pandas.core.frame.DataFrame'>\n",
      "RangeIndex: 39717 entries, 0 to 39716\n",
      "Data columns (total 53 columns):\n",
      "id                            39717 non-null int64\n",
      "member_id                     39717 non-null int64\n",
      "loan_amnt                     39717 non-null int64\n",
      "funded_amnt                   39717 non-null int64\n",
      "funded_amnt_inv               39717 non-null float64\n",
      "term                          39717 non-null object\n",
      "int_rate                      39717 non-null object\n",
      "installment                   39717 non-null float64\n",
      "grade                         39717 non-null object\n",
      "sub_grade                     39717 non-null object\n",
      "emp_title                     37258 non-null object\n",
      "emp_length                    38642 non-null object\n",
      "home_ownership                39717 non-null object\n",
      "annual_inc                    39717 non-null float64\n",
      "verification_status           39717 non-null object\n",
      "issue_d                       39717 non-null object\n",
      "loan_status                   39717 non-null object\n",
      "pymnt_plan                    39717 non-null object\n",
      "url                           39717 non-null object\n",
      "purpose                       39717 non-null object\n",
      "title                         39706 non-null object\n",
      "zip_code                      39717 non-null object\n",
      "addr_state                    39717 non-null object\n",
      "dti                           39717 non-null float64\n",
      "delinq_2yrs                   39717 non-null int64\n",
      "earliest_cr_line              39717 non-null object\n",
      "inq_last_6mths                39717 non-null int64\n",
      "open_acc                      39717 non-null int64\n",
      "pub_rec                       39717 non-null int64\n",
      "revol_bal                     39717 non-null int64\n",
      "revol_util                    39667 non-null object\n",
      "total_acc                     39717 non-null int64\n",
      "initial_list_status           39717 non-null object\n",
      "out_prncp                     39717 non-null float64\n",
      "out_prncp_inv                 39717 non-null float64\n",
      "total_pymnt                   39717 non-null float64\n",
      "total_pymnt_inv               39717 non-null float64\n",
      "total_rec_prncp               39717 non-null float64\n",
      "total_rec_int                 39717 non-null float64\n",
      "total_rec_late_fee            39717 non-null float64\n",
      "recoveries                    39717 non-null float64\n",
      "collection_recovery_fee       39717 non-null float64\n",
      "last_pymnt_d                  39646 non-null object\n",
      "last_pymnt_amnt               39717 non-null float64\n",
      "last_credit_pull_d            39715 non-null object\n",
      "collections_12_mths_ex_med    39661 non-null float64\n",
      "policy_code                   39717 non-null int64\n",
      "application_type              39717 non-null object\n",
      "acc_now_delinq                39717 non-null int64\n",
      "chargeoff_within_12_mths      39661 non-null float64\n",
      "delinq_amnt                   39717 non-null int64\n",
      "pub_rec_bankruptcies          39020 non-null float64\n",
      "tax_liens                     39678 non-null float64\n",
      "dtypes: float64(18), int64(13), object(22)\n",
      "memory usage: 16.1+ MB\n"
     ]
    }
   ],
   "source": [
    "loan.info()"
   ]
  },
  {
   "cell_type": "code",
   "execution_count": 15,
   "metadata": {},
   "outputs": [],
   "source": [
    "# The column int_rate is character type, let's convert it to float\n",
    "loan['int_rate'] = loan['int_rate'].apply(lambda x: pd.to_numeric(x.split(\"%\")[0]))"
   ]
  },
  {
   "cell_type": "code",
   "execution_count": 16,
   "metadata": {},
   "outputs": [
    {
     "name": "stdout",
     "output_type": "stream",
     "text": [
      "<class 'pandas.core.frame.DataFrame'>\n",
      "RangeIndex: 39717 entries, 0 to 39716\n",
      "Data columns (total 53 columns):\n",
      "id                            39717 non-null int64\n",
      "member_id                     39717 non-null int64\n",
      "loan_amnt                     39717 non-null int64\n",
      "funded_amnt                   39717 non-null int64\n",
      "funded_amnt_inv               39717 non-null float64\n",
      "term                          39717 non-null object\n",
      "int_rate                      39717 non-null float64\n",
      "installment                   39717 non-null float64\n",
      "grade                         39717 non-null object\n",
      "sub_grade                     39717 non-null object\n",
      "emp_title                     37258 non-null object\n",
      "emp_length                    38642 non-null object\n",
      "home_ownership                39717 non-null object\n",
      "annual_inc                    39717 non-null float64\n",
      "verification_status           39717 non-null object\n",
      "issue_d                       39717 non-null object\n",
      "loan_status                   39717 non-null object\n",
      "pymnt_plan                    39717 non-null object\n",
      "url                           39717 non-null object\n",
      "purpose                       39717 non-null object\n",
      "title                         39706 non-null object\n",
      "zip_code                      39717 non-null object\n",
      "addr_state                    39717 non-null object\n",
      "dti                           39717 non-null float64\n",
      "delinq_2yrs                   39717 non-null int64\n",
      "earliest_cr_line              39717 non-null object\n",
      "inq_last_6mths                39717 non-null int64\n",
      "open_acc                      39717 non-null int64\n",
      "pub_rec                       39717 non-null int64\n",
      "revol_bal                     39717 non-null int64\n",
      "revol_util                    39667 non-null object\n",
      "total_acc                     39717 non-null int64\n",
      "initial_list_status           39717 non-null object\n",
      "out_prncp                     39717 non-null float64\n",
      "out_prncp_inv                 39717 non-null float64\n",
      "total_pymnt                   39717 non-null float64\n",
      "total_pymnt_inv               39717 non-null float64\n",
      "total_rec_prncp               39717 non-null float64\n",
      "total_rec_int                 39717 non-null float64\n",
      "total_rec_late_fee            39717 non-null float64\n",
      "recoveries                    39717 non-null float64\n",
      "collection_recovery_fee       39717 non-null float64\n",
      "last_pymnt_d                  39646 non-null object\n",
      "last_pymnt_amnt               39717 non-null float64\n",
      "last_credit_pull_d            39715 non-null object\n",
      "collections_12_mths_ex_med    39661 non-null float64\n",
      "policy_code                   39717 non-null int64\n",
      "application_type              39717 non-null object\n",
      "acc_now_delinq                39717 non-null int64\n",
      "chargeoff_within_12_mths      39661 non-null float64\n",
      "delinq_amnt                   39717 non-null int64\n",
      "pub_rec_bankruptcies          39020 non-null float64\n",
      "tax_liens                     39678 non-null float64\n",
      "dtypes: float64(19), int64(13), object(21)\n",
      "memory usage: 16.1+ MB\n"
     ]
    }
   ],
   "source": [
    "# checking the data types\n",
    "loan.info()"
   ]
  },
  {
   "cell_type": "code",
   "execution_count": 17,
   "metadata": {},
   "outputs": [],
   "source": [
    "# also, lets extract the numeric part from the variable employment length\n",
    "\n",
    "# first, let's drop the missing values from the column (otherwise the regex code below throws error)\n",
    "loan = loan[~loan['emp_length'].isnull()]\n",
    "\n",
    "# using regular expression to extract numeric values from the string\n",
    "import re\n",
    "loan['emp_length'] = loan['emp_length'].apply(lambda x: re.findall('\\d+', str(x))[0])\n",
    "\n",
    "# convert to numeric\n",
    "loan['emp_length'] = loan['emp_length'].apply(lambda x: pd.to_numeric(x))"
   ]
  },
  {
   "cell_type": "code",
   "execution_count": 18,
   "metadata": {},
   "outputs": [
    {
     "name": "stdout",
     "output_type": "stream",
     "text": [
      "<class 'pandas.core.frame.DataFrame'>\n",
      "Int64Index: 38642 entries, 0 to 39716\n",
      "Data columns (total 53 columns):\n",
      "id                            38642 non-null int64\n",
      "member_id                     38642 non-null int64\n",
      "loan_amnt                     38642 non-null int64\n",
      "funded_amnt                   38642 non-null int64\n",
      "funded_amnt_inv               38642 non-null float64\n",
      "term                          38642 non-null object\n",
      "int_rate                      38642 non-null float64\n",
      "installment                   38642 non-null float64\n",
      "grade                         38642 non-null object\n",
      "sub_grade                     38642 non-null object\n",
      "emp_title                     37202 non-null object\n",
      "emp_length                    38642 non-null int64\n",
      "home_ownership                38642 non-null object\n",
      "annual_inc                    38642 non-null float64\n",
      "verification_status           38642 non-null object\n",
      "issue_d                       38642 non-null object\n",
      "loan_status                   38642 non-null object\n",
      "pymnt_plan                    38642 non-null object\n",
      "url                           38642 non-null object\n",
      "purpose                       38642 non-null object\n",
      "title                         38632 non-null object\n",
      "zip_code                      38642 non-null object\n",
      "addr_state                    38642 non-null object\n",
      "dti                           38642 non-null float64\n",
      "delinq_2yrs                   38642 non-null int64\n",
      "earliest_cr_line              38642 non-null object\n",
      "inq_last_6mths                38642 non-null int64\n",
      "open_acc                      38642 non-null int64\n",
      "pub_rec                       38642 non-null int64\n",
      "revol_bal                     38642 non-null int64\n",
      "revol_util                    38595 non-null object\n",
      "total_acc                     38642 non-null int64\n",
      "initial_list_status           38642 non-null object\n",
      "out_prncp                     38642 non-null float64\n",
      "out_prncp_inv                 38642 non-null float64\n",
      "total_pymnt                   38642 non-null float64\n",
      "total_pymnt_inv               38642 non-null float64\n",
      "total_rec_prncp               38642 non-null float64\n",
      "total_rec_int                 38642 non-null float64\n",
      "total_rec_late_fee            38642 non-null float64\n",
      "recoveries                    38642 non-null float64\n",
      "collection_recovery_fee       38642 non-null float64\n",
      "last_pymnt_d                  38576 non-null object\n",
      "last_pymnt_amnt               38642 non-null float64\n",
      "last_credit_pull_d            38640 non-null object\n",
      "collections_12_mths_ex_med    38586 non-null float64\n",
      "policy_code                   38642 non-null int64\n",
      "application_type              38642 non-null object\n",
      "acc_now_delinq                38642 non-null int64\n",
      "chargeoff_within_12_mths      38586 non-null float64\n",
      "delinq_amnt                   38642 non-null int64\n",
      "pub_rec_bankruptcies          37945 non-null float64\n",
      "tax_liens                     38603 non-null float64\n",
      "dtypes: float64(19), int64(14), object(20)\n",
      "memory usage: 15.9+ MB\n"
     ]
    }
   ],
   "source": [
    "# looking at type of the columns again\n",
    "loan.info()"
   ]
  },
  {
   "cell_type": "markdown",
   "metadata": {},
   "source": [
    "## Data Analysis\n",
    "\n",
    "Let's now move to data analysis. To start with, let's understand the objective of the analysis clearly and identify the variables that we want to consider for analysis. \n",
    "\n",
    "The objective is to identify predictors of default so that at the time of loan application, we can use those variables for approval/rejection of the loan. Now, there are broadly three types of variables - 1. those which are related to the applicant (demographic variables such as age, occupation, employment details etc.), 2. loan characteristics (amount of loan, interest rate, purpose of loan etc.) and 3. Customer behaviour variables (those which are generated after the loan is approved such as delinquent 2 years, revolving balance, next payment date etc.).\n",
    "\n",
    "Now, the customer behaviour variables are not available at the time of loan application, and thus they cannot be used as predictors for credit approval. \n",
    "\n",
    "Thus, going forward, we will use only the other two types of variables.\n",
    "\n"
   ]
  },
  {
   "cell_type": "code",
   "execution_count": 19,
   "metadata": {},
   "outputs": [
    {
     "data": {
      "text/plain": [
       "['delinq_2yrs',\n",
       " 'earliest_cr_line',\n",
       " 'inq_last_6mths',\n",
       " 'open_acc',\n",
       " 'pub_rec',\n",
       " 'revol_bal',\n",
       " 'revol_util',\n",
       " 'total_acc',\n",
       " 'out_prncp',\n",
       " 'out_prncp_inv',\n",
       " 'total_pymnt',\n",
       " 'total_pymnt_inv',\n",
       " 'total_rec_prncp',\n",
       " 'total_rec_int',\n",
       " 'total_rec_late_fee',\n",
       " 'recoveries',\n",
       " 'collection_recovery_fee',\n",
       " 'last_pymnt_d',\n",
       " 'last_pymnt_amnt',\n",
       " 'last_credit_pull_d',\n",
       " 'application_type']"
      ]
     },
     "execution_count": 19,
     "metadata": {},
     "output_type": "execute_result"
    }
   ],
   "source": [
    "behaviour_var =  [\n",
    "  \"delinq_2yrs\",\n",
    "  \"earliest_cr_line\",\n",
    "  \"inq_last_6mths\",\n",
    "  \"open_acc\",\n",
    "  \"pub_rec\",\n",
    "  \"revol_bal\",\n",
    "  \"revol_util\",\n",
    "  \"total_acc\",\n",
    "  \"out_prncp\",\n",
    "  \"out_prncp_inv\",\n",
    "  \"total_pymnt\",\n",
    "  \"total_pymnt_inv\",\n",
    "  \"total_rec_prncp\",\n",
    "  \"total_rec_int\",\n",
    "  \"total_rec_late_fee\",\n",
    "  \"recoveries\",\n",
    "  \"collection_recovery_fee\",\n",
    "  \"last_pymnt_d\",\n",
    "  \"last_pymnt_amnt\",\n",
    "  \"last_credit_pull_d\",\n",
    "  \"application_type\"]\n",
    "behaviour_var"
   ]
  },
  {
   "cell_type": "code",
   "execution_count": 20,
   "metadata": {},
   "outputs": [
    {
     "name": "stdout",
     "output_type": "stream",
     "text": [
      "<class 'pandas.core.frame.DataFrame'>\n",
      "Int64Index: 38642 entries, 0 to 39716\n",
      "Data columns (total 32 columns):\n",
      "id                            38642 non-null int64\n",
      "member_id                     38642 non-null int64\n",
      "loan_amnt                     38642 non-null int64\n",
      "funded_amnt                   38642 non-null int64\n",
      "funded_amnt_inv               38642 non-null float64\n",
      "term                          38642 non-null object\n",
      "int_rate                      38642 non-null float64\n",
      "installment                   38642 non-null float64\n",
      "grade                         38642 non-null object\n",
      "sub_grade                     38642 non-null object\n",
      "emp_title                     37202 non-null object\n",
      "emp_length                    38642 non-null int64\n",
      "home_ownership                38642 non-null object\n",
      "annual_inc                    38642 non-null float64\n",
      "verification_status           38642 non-null object\n",
      "issue_d                       38642 non-null object\n",
      "loan_status                   38642 non-null object\n",
      "pymnt_plan                    38642 non-null object\n",
      "url                           38642 non-null object\n",
      "purpose                       38642 non-null object\n",
      "title                         38632 non-null object\n",
      "zip_code                      38642 non-null object\n",
      "addr_state                    38642 non-null object\n",
      "dti                           38642 non-null float64\n",
      "initial_list_status           38642 non-null object\n",
      "collections_12_mths_ex_med    38586 non-null float64\n",
      "policy_code                   38642 non-null int64\n",
      "acc_now_delinq                38642 non-null int64\n",
      "chargeoff_within_12_mths      38586 non-null float64\n",
      "delinq_amnt                   38642 non-null int64\n",
      "pub_rec_bankruptcies          37945 non-null float64\n",
      "tax_liens                     38603 non-null float64\n",
      "dtypes: float64(9), int64(8), object(15)\n",
      "memory usage: 9.7+ MB\n"
     ]
    }
   ],
   "source": [
    "# let's now remove the behaviour variables from analysis\n",
    "df = loan.drop(behaviour_var, axis=1)\n",
    "df.info()"
   ]
  },
  {
   "cell_type": "markdown",
   "metadata": {},
   "source": [
    "Typically, variables such as acc_now_delinquent, chargeoff within 12 months etc. (which are related to the applicant's past loans) are available from the credit bureau. "
   ]
  },
  {
   "cell_type": "code",
   "execution_count": 21,
   "metadata": {},
   "outputs": [],
   "source": [
    "# also, we will not be able to use the variables zip code, address, state etc.\n",
    "# the variable 'title' is derived from the variable 'purpose'\n",
    "# thus let get rid of all these variables as well\n",
    "\n",
    "df = df.drop(['title', 'url', 'zip_code', 'addr_state'], axis=1)"
   ]
  },
  {
   "cell_type": "markdown",
   "metadata": {},
   "source": [
    "Next, let's have a look at the target variable - loan_status. We need to relabel the values to a binary form - 0 or 1, 1 indicating that the person has defaulted and 0 otherwise.\n",
    "\n"
   ]
  },
  {
   "cell_type": "code",
   "execution_count": 22,
   "metadata": {},
   "outputs": [
    {
     "data": {
      "text/plain": [
       "Fully Paid     32145\n",
       "Charged Off     5399\n",
       "Current         1098\n",
       "Name: loan_status, dtype: int64"
      ]
     },
     "execution_count": 22,
     "metadata": {},
     "output_type": "execute_result"
    }
   ],
   "source": [
    "df['loan_status'] = df['loan_status'].astype('category')\n",
    "df['loan_status'].value_counts()"
   ]
  },
  {
   "cell_type": "markdown",
   "metadata": {},
   "source": [
    "You can see that fully paid comprises most of the loans. The ones marked 'current' are neither fully paid not defaulted, so let's get rid of the current loans. Also, let's tag the other two values as 0 or 1. "
   ]
  },
  {
   "cell_type": "code",
   "execution_count": 23,
   "metadata": {},
   "outputs": [
    {
     "data": {
      "text/plain": [
       "0    32145\n",
       "1     5399\n",
       "Name: loan_status, dtype: int64"
      ]
     },
     "execution_count": 23,
     "metadata": {},
     "output_type": "execute_result"
    }
   ],
   "source": [
    "# filtering only fully paid or charged-off\n",
    "df = df[df['loan_status'] != 'Current']\n",
    "df['loan_status'] = df['loan_status'].apply(lambda x: 0 if x=='Fully Paid' else 1)\n",
    "\n",
    "# converting loan_status to integer type\n",
    "df['loan_status'] = df['loan_status'].apply(lambda x: pd.to_numeric(x))\n",
    "\n",
    "# summarising the values\n",
    "df['loan_status'].value_counts()"
   ]
  },
  {
   "cell_type": "markdown",
   "metadata": {},
   "source": [
    "Next, let's start with univariate analysis and then move to bivariate analysis.\n",
    "\n",
    "## Univariate Analysis\n",
    "\n",
    "First, let's look at the overall default rate.\n"
   ]
  },
  {
   "cell_type": "code",
   "execution_count": 24,
   "metadata": {},
   "outputs": [
    {
     "data": {
      "text/plain": [
       "0.14"
      ]
     },
     "execution_count": 24,
     "metadata": {},
     "output_type": "execute_result"
    }
   ],
   "source": [
    "# default rate\n",
    "round(np.mean(df['loan_status']), 2)"
   ]
  },
  {
   "cell_type": "markdown",
   "metadata": {},
   "source": [
    "The overall default rate is about 14%.  "
   ]
  },
  {
   "cell_type": "markdown",
   "metadata": {},
   "source": [
    "Let's first visualise the average default rates across categorical variables.\n"
   ]
  },
  {
   "cell_type": "code",
   "execution_count": 25,
   "metadata": {},
   "outputs": [
    {
     "data": {
      "image/png": "[encoded data removed]",
      "text/plain": [
       "<Figure size 432x288 with 1 Axes>"
      ]
     },
     "metadata": {
      "needs_background": "light"
     },
     "output_type": "display_data"
    }
   ],
   "source": [
    "# plotting default rates across grade of the loan\n",
    "sns.barplot(x='grade', y='loan_status', data=df)\n",
    "plt.show()"
   ]
  },
  {
   "cell_type": "code",
   "execution_count": 26,
   "metadata": {},
   "outputs": [],
   "source": [
    "# lets define a function to plot loan_status across categorical variables\n",
    "def plot_cat(cat_var):\n",
    "    sns.barplot(x=cat_var, y='loan_status', data=df)\n",
    "    plt.show()\n",
    "    "
   ]
  },
  {
   "cell_type": "code",
   "execution_count": 27,
   "metadata": {},
   "outputs": [
    {
     "data": {
      "image/png": "[encoded data removed]",
      "text/plain": [
       "<Figure size 432x288 with 1 Axes>"
      ]
     },
     "metadata": {
      "needs_background": "light"
     },
     "output_type": "display_data"
    }
   ],
   "source": [
    "# compare default rates across grade of loan\n",
    "plot_cat('grade')"
   ]
  },
  {
   "cell_type": "markdown",
   "metadata": {},
   "source": [
    "Clearly, as the grade of loan goes from A to G, the default rate increases. This is expected because the grade is decided by Lending Club based on the riskiness of the loan. "
   ]
  },
  {
   "cell_type": "code",
   "execution_count": 28,
   "metadata": {},
   "outputs": [
    {
     "data": {
      "image/png": "[encoded data removed]",
      "text/plain": [
       "<Figure size 432x288 with 1 Axes>"
      ]
     },
     "metadata": {
      "needs_background": "light"
     },
     "output_type": "display_data"
    }
   ],
   "source": [
    "# term: 60 months loans default more than 36 months loans\n",
    "plot_cat('term')"
   ]
  },
  {
   "cell_type": "code",
   "execution_count": 29,
   "metadata": {},
   "outputs": [
    {
     "data": {
      "image/png": "[encoded data removed]",
      "text/plain": [
       "<Figure size 1152x432 with 1 Axes>"
      ]
     },
     "metadata": {
      "needs_background": "light"
     },
     "output_type": "display_data"
    }
   ],
   "source": [
    "# sub-grade: as expected - A1 is better than A2 better than A3 and so on \n",
    "plt.figure(figsize=(16, 6))\n",
    "plot_cat('sub_grade')"
   ]
  },
  {
   "cell_type": "code",
   "execution_count": 30,
   "metadata": {},
   "outputs": [
    {
     "data": {
      "image/png": "[encoded data removed]",
      "text/plain": [
       "<Figure size 432x288 with 1 Axes>"
      ]
     },
     "metadata": {
      "needs_background": "light"
     },
     "output_type": "display_data"
    }
   ],
   "source": [
    "# home ownership: not a great discriminator\n",
    "plot_cat('home_ownership')"
   ]
  },
  {
   "cell_type": "code",
   "execution_count": 31,
   "metadata": {},
   "outputs": [
    {
     "data": {
      "image/png": "[encoded data removed]",
      "text/plain": [
       "<Figure size 432x288 with 1 Axes>"
      ]
     },
     "metadata": {
      "needs_background": "light"
     },
     "output_type": "display_data"
    }
   ],
   "source": [
    "# verification_status: surprisingly, verified loans default more than not verifiedb\n",
    "plot_cat('verification_status')"
   ]
  },
  {
   "cell_type": "code",
   "execution_count": 32,
   "metadata": {},
   "outputs": [
    {
     "data": {
      "image/png": "[encoded data removed]",
      "text/plain": [
       "<Figure size 1152x432 with 1 Axes>"
      ]
     },
     "metadata": {
      "needs_background": "light"
     },
     "output_type": "display_data"
    }
   ],
   "source": [
    "# purpose: small business loans defualt the most, then renewable energy and education\n",
    "plt.figure(figsize=(16, 6))\n",
    "plot_cat('purpose')"
   ]
  },
  {
   "cell_type": "code",
   "execution_count": 33,
   "metadata": {},
   "outputs": [
    {
     "data": {
      "text/plain": [
       "0    Dec-11\n",
       "1    Dec-11\n",
       "2    Dec-11\n",
       "3    Dec-11\n",
       "5    Dec-11\n",
       "Name: issue_d, dtype: object"
      ]
     },
     "execution_count": 33,
     "metadata": {},
     "output_type": "execute_result"
    }
   ],
   "source": [
    "# let's also observe the distribution of loans across years\n",
    "# first lets convert the year column into datetime and then extract year and month from it\n",
    "df['issue_d'].head()"
   ]
  },
  {
   "cell_type": "code",
   "execution_count": 34,
   "metadata": {},
   "outputs": [],
   "source": [
    "from datetime import datetime\n",
    "df['issue_d'] = df['issue_d'].apply(lambda x: datetime.strptime(x, '%b-%y'))\n"
   ]
  },
  {
   "cell_type": "code",
   "execution_count": 35,
   "metadata": {},
   "outputs": [],
   "source": [
    "# extracting month and year from issue_date\n",
    "df['month'] = df['issue_d'].apply(lambda x: x.month)\n",
    "df['year'] = df['issue_d'].apply(lambda x: x.year)\n",
    "\n",
    "\n"
   ]
  },
  {
   "cell_type": "code",
   "execution_count": 36,
   "metadata": {},
   "outputs": [
    {
     "data": {
      "text/plain": [
       "year\n",
       "2007      251\n",
       "2008     1562\n",
       "2009     4716\n",
       "2010    11214\n",
       "2011    19801\n",
       "Name: year, dtype: int64"
      ]
     },
     "execution_count": 36,
     "metadata": {},
     "output_type": "execute_result"
    }
   ],
   "source": [
    "# let's first observe the number of loans granted across years\n",
    "df.groupby('year').year.count()"
   ]
  },
  {
   "cell_type": "markdown",
   "metadata": {},
   "source": [
    "You can see that the number of loans has increased steadily across years. "
   ]
  },
  {
   "cell_type": "code",
   "execution_count": 37,
   "metadata": {},
   "outputs": [
    {
     "data": {
      "text/plain": [
       "month\n",
       "1     2331\n",
       "2     2278\n",
       "3     2632\n",
       "4     2756\n",
       "5     2838\n",
       "6     3094\n",
       "7     3253\n",
       "8     3321\n",
       "9     3394\n",
       "10    3637\n",
       "11    3890\n",
       "12    4120\n",
       "Name: month, dtype: int64"
      ]
     },
     "execution_count": 37,
     "metadata": {},
     "output_type": "execute_result"
    }
   ],
   "source": [
    "# number of loans across months\n",
    "df.groupby('month').month.count()"
   ]
  },
  {
   "cell_type": "markdown",
   "metadata": {},
   "source": [
    "Most loans are granted in December, and in general in the latter half of the year."
   ]
  },
  {
   "cell_type": "code",
   "execution_count": 38,
   "metadata": {},
   "outputs": [
    {
     "data": {
      "image/png": "[encoded data removed]",
      "text/plain": [
       "<Figure size 432x288 with 1 Axes>"
      ]
     },
     "metadata": {
      "needs_background": "light"
     },
     "output_type": "display_data"
    }
   ],
   "source": [
    "# lets compare the default rates across years\n",
    "# the default rate had suddenly increased in 2011, inspite of reducing from 2008 till 2010\n",
    "plot_cat('year')"
   ]
  },
  {
   "cell_type": "code",
   "execution_count": 39,
   "metadata": {},
   "outputs": [
    {
     "data": {
      "image/png": "[encoded data removed]",
      "text/plain": [
       "<Figure size 1152x432 with 1 Axes>"
      ]
     },
     "metadata": {
      "needs_background": "light"
     },
     "output_type": "display_data"
    }
   ],
   "source": [
    "# comparing default rates across months: not much variation across months\n",
    "plt.figure(figsize=(16, 6))\n",
    "plot_cat('month')"
   ]
  },
  {
   "cell_type": "markdown",
   "metadata": {},
   "source": [
    "Let's now analyse how the default rate varies across continuous variables."
   ]
  },
  {
   "cell_type": "code",
   "execution_count": 40,
   "metadata": {},
   "outputs": [
    {
     "data": {
      "image/png": "[encoded data removed]",
      "text/plain": [
       "<Figure size 432x288 with 1 Axes>"
      ]
     },
     "metadata": {
      "needs_background": "light"
     },
     "output_type": "display_data"
    }
   ],
   "source": [
    "# loan amount: the median loan amount is around 10,000\n",
    "sns.distplot(df['loan_amnt'])\n",
    "plt.show()"
   ]
  },
  {
   "cell_type": "markdown",
   "metadata": {},
   "source": [
    "The easiest way to analyse how default rates vary across continous variables is to bin the variables into discrete categories.\n",
    "\n",
    "Let's bin the loan amount variable into small, medium, high, very high."
   ]
  },
  {
   "cell_type": "code",
   "execution_count": 41,
   "metadata": {},
   "outputs": [],
   "source": [
    "# binning loan amount\n",
    "def loan_amount(n):\n",
    "    if n < 5000:\n",
    "        return 'low'\n",
    "    elif n >=5000 and n < 15000:\n",
    "        return 'medium'\n",
    "    elif n >= 15000 and n < 25000:\n",
    "        return 'high'\n",
    "    else:\n",
    "        return 'very high'\n",
    "        \n",
    "df['loan_amnt'] = df['loan_amnt'].apply(lambda x: loan_amount(x))\n"
   ]
  },
  {
   "cell_type": "code",
   "execution_count": 42,
   "metadata": {},
   "outputs": [
    {
     "data": {
      "text/plain": [
       "medium       20157\n",
       "high          7572\n",
       "low           7095\n",
       "very high     2720\n",
       "Name: loan_amnt, dtype: int64"
      ]
     },
     "execution_count": 42,
     "metadata": {},
     "output_type": "execute_result"
    }
   ],
   "source": [
    "df['loan_amnt'].value_counts()"
   ]
  },
  {
   "cell_type": "code",
   "execution_count": 43,
   "metadata": {},
   "outputs": [
    {
     "data": {
      "image/png": "[encoded data removed]",
      "text/plain": [
       "<Figure size 432x288 with 1 Axes>"
      ]
     },
     "metadata": {
      "needs_background": "light"
     },
     "output_type": "display_data"
    }
   ],
   "source": [
    "# let's compare the default rates across loan amount type\n",
    "# higher the loan amount, higher the default rate\n",
    "plot_cat('loan_amnt')"
   ]
  },
  {
   "cell_type": "code",
   "execution_count": 44,
   "metadata": {},
   "outputs": [],
   "source": [
    "# let's also convert funded amount invested to bins\n",
    "df['funded_amnt_inv'] = df['funded_amnt_inv'].apply(lambda x: loan_amount(x))"
   ]
  },
  {
   "cell_type": "code",
   "execution_count": 45,
   "metadata": {},
   "outputs": [
    {
     "data": {
      "image/png": "[encoded data removed]",
      "text/plain": [
       "<Figure size 432x288 with 1 Axes>"
      ]
     },
     "metadata": {
      "needs_background": "light"
     },
     "output_type": "display_data"
    }
   ],
   "source": [
    "# funded amount invested\n",
    "plot_cat('funded_amnt_inv')"
   ]
  },
  {
   "cell_type": "code",
   "execution_count": 46,
   "metadata": {},
   "outputs": [],
   "source": [
    "# lets also convert interest rate to low, medium, high\n",
    "# binning loan amount\n",
    "def int_rate(n):\n",
    "    if n <= 10:\n",
    "        return 'low'\n",
    "    elif n > 10 and n <=15:\n",
    "        return 'medium'\n",
    "    else:\n",
    "        return 'high'\n",
    "    \n",
    "    \n",
    "df['int_rate'] = df['int_rate'].apply(lambda x: int_rate(x))"
   ]
  },
  {
   "cell_type": "code",
   "execution_count": 47,
   "metadata": {},
   "outputs": [
    {
     "data": {
      "image/png": "[encoded data removed]",
      "text/plain": [
       "<Figure size 432x288 with 1 Axes>"
      ]
     },
     "metadata": {
      "needs_background": "light"
     },
     "output_type": "display_data"
    }
   ],
   "source": [
    "# comparing default rates across rates of interest\n",
    "# high interest rates default more, as expected\n",
    "plot_cat('int_rate')"
   ]
  },
  {
   "cell_type": "code",
   "execution_count": 48,
   "metadata": {},
   "outputs": [],
   "source": [
    "# debt to income ratio\n",
    "def dti(n):\n",
    "    if n <= 10:\n",
    "        return 'low'\n",
    "    elif n > 10 and n <=20:\n",
    "        return 'medium'\n",
    "    else:\n",
    "        return 'high'\n",
    "    \n",
    "\n",
    "df['dti'] = df['dti'].apply(lambda x: dti(x))"
   ]
  },
  {
   "cell_type": "code",
   "execution_count": 49,
   "metadata": {},
   "outputs": [
    {
     "data": {
      "image/png": "[encoded data removed]",
      "text/plain": [
       "<Figure size 432x288 with 1 Axes>"
      ]
     },
     "metadata": {
      "needs_background": "light"
     },
     "output_type": "display_data"
    }
   ],
   "source": [
    "# comparing default rates across debt to income ratio\n",
    "# high dti translates into higher default rates, as expected\n",
    "plot_cat('dti')"
   ]
  },
  {
   "cell_type": "code",
   "execution_count": 50,
   "metadata": {},
   "outputs": [],
   "source": [
    "# funded amount\n",
    "def funded_amount(n):\n",
    "    if n <= 5000:\n",
    "        return 'low'\n",
    "    elif n > 5000 and n <=15000:\n",
    "        return 'medium'\n",
    "    else:\n",
    "        return 'high'\n",
    "    \n",
    "df['funded_amnt'] = df['funded_amnt'].apply(lambda x: funded_amount(x))"
   ]
  },
  {
   "cell_type": "code",
   "execution_count": 51,
   "metadata": {},
   "outputs": [
    {
     "data": {
      "image/png": "[encoded data removed]",
      "text/plain": [
       "<Figure size 432x288 with 1 Axes>"
      ]
     },
     "metadata": {
      "needs_background": "light"
     },
     "output_type": "display_data"
    }
   ],
   "source": [
    "plot_cat('funded_amnt')\n"
   ]
  },
  {
   "cell_type": "code",
   "execution_count": 52,
   "metadata": {},
   "outputs": [],
   "source": [
    "# installment\n",
    "def installment(n):\n",
    "    if n <= 200:\n",
    "        return 'low'\n",
    "    elif n > 200 and n <=400:\n",
    "        return 'medium'\n",
    "    elif n > 400 and n <=600:\n",
    "        return 'high'\n",
    "    else:\n",
    "        return 'very high'\n",
    "    \n",
    "df['installment'] = df['installment'].apply(lambda x: installment(x))"
   ]
  },
  {
   "cell_type": "code",
   "execution_count": 53,
   "metadata": {},
   "outputs": [
    {
     "data": {
      "image/png": "[encoded data removed]",
      "text/plain": [
       "<Figure size 432x288 with 1 Axes>"
      ]
     },
     "metadata": {
      "needs_background": "light"
     },
     "output_type": "display_data"
    }
   ],
   "source": [
    "# comparing default rates across installment\n",
    "# the higher the installment amount, the higher the default rate\n",
    "plot_cat('installment')"
   ]
  },
  {
   "cell_type": "code",
   "execution_count": 54,
   "metadata": {},
   "outputs": [],
   "source": [
    "# annual income\n",
    "def annual_income(n):\n",
    "    if n <= 50000:\n",
    "        return 'low'\n",
    "    elif n > 50000 and n <=100000:\n",
    "        return 'medium'\n",
    "    elif n > 100000 and n <=150000:\n",
    "        return 'high'\n",
    "    else:\n",
    "        return 'very high'\n",
    "\n",
    "df['annual_inc'] = df['annual_inc'].apply(lambda x: annual_income(x))"
   ]
  },
  {
   "cell_type": "code",
   "execution_count": 55,
   "metadata": {},
   "outputs": [
    {
     "data": {
      "image/png": "[encoded data removed]",
      "text/plain": [
       "<Figure size 432x288 with 1 Axes>"
      ]
     },
     "metadata": {
      "needs_background": "light"
     },
     "output_type": "display_data"
    }
   ],
   "source": [
    "# annual income and default rate\n",
    "# lower the annual income, higher the default rate\n",
    "plot_cat('annual_inc')"
   ]
  },
  {
   "cell_type": "code",
   "execution_count": 56,
   "metadata": {},
   "outputs": [],
   "source": [
    "# employment length\n",
    "# first, let's drop the missing value observations in emp length\n",
    "df = df[~df['emp_length'].isnull()]\n",
    "\n",
    "# binning the variable\n",
    "def emp_length(n):\n",
    "    if n <= 1:\n",
    "        return 'fresher'\n",
    "    elif n > 1 and n <=3:\n",
    "        return 'junior'\n",
    "    elif n > 3 and n <=7:\n",
    "        return 'senior'\n",
    "    else:\n",
    "        return 'expert'\n",
    "\n",
    "df['emp_length'] = df['emp_length'].apply(lambda x: emp_length(x))"
   ]
  },
  {
   "cell_type": "code",
   "execution_count": 57,
   "metadata": {},
   "outputs": [
    {
     "data": {
      "image/png": "[encoded data removed]",
      "text/plain": [
       "<Figure size 432x288 with 1 Axes>"
      ]
     },
     "metadata": {
      "needs_background": "light"
     },
     "output_type": "display_data"
    }
   ],
   "source": [
    "# emp_length and default rate\n",
    "# not much of a predictor of default\n",
    "plot_cat('emp_length')"
   ]
  },
  {
   "cell_type": "markdown",
   "metadata": {},
   "source": [
    "## Segmented Univariate Analysis\n",
    "\n",
    "We have now compared the default rates across various variables, and some of the important predictors are purpose of the loan, interest rate, annual income, grade etc.\n",
    "\n",
    "In the credit industry, one of the most important factors affecting default is the purpose of the loan - home loans perform differently than credit cards, credit cards are very different from debt condolidation loans etc. \n",
    "\n",
    "This comes from business understanding, though let's again have a look at the default rates across the purpose of the loan.\n"
   ]
  },
  {
   "cell_type": "code",
   "execution_count": 58,
   "metadata": {},
   "outputs": [
    {
     "data": {
      "image/png": "[encoded data removed]",
      "text/plain": [
       "<Figure size 1152x432 with 1 Axes>"
      ]
     },
     "metadata": {
      "needs_background": "light"
     },
     "output_type": "display_data"
    }
   ],
   "source": [
    "# purpose: small business loans defualt the most, then renewable energy and education\n",
    "plt.figure(figsize=(16, 6))\n",
    "plot_cat('purpose')"
   ]
  },
  {
   "cell_type": "markdown",
   "metadata": {},
   "source": [
    "In the upcoming analyses, we will segment the loan applications across the purpose of the loan, since that is a variable affecting many other variables - the type of applicant, interest rate, income, and finally the default rate. "
   ]
  },
  {
   "cell_type": "code",
   "execution_count": 59,
   "metadata": {},
   "outputs": [
    {
     "data": {
      "image/png": "[encoded data removed]",
      "text/plain": [
       "<Figure size 1152x432 with 1 Axes>"
      ]
     },
     "metadata": {
      "needs_background": "light"
     },
     "output_type": "display_data"
    }
   ],
   "source": [
    "# lets first look at the number of loans for each type (purpose) of the loan\n",
    "# most loans are debt consolidation (to repay otehr debts), then credit card, major purchase etc.\n",
    "plt.figure(figsize=(16, 6))\n",
    "sns.countplot(x='purpose', data=df)\n",
    "plt.show()"
   ]
  },
  {
   "cell_type": "markdown",
   "metadata": {},
   "source": [
    "Let's analyse the top 4 types of loans based on purpose: consolidation, credit card, home improvement and major purchase."
   ]
  },
  {
   "cell_type": "code",
   "execution_count": 60,
   "metadata": {},
   "outputs": [
    {
     "data": {
      "text/plain": [
       "debt_consolidation    17675\n",
       "credit_card            4899\n",
       "home_improvement       2785\n",
       "major_purchase         2080\n",
       "Name: purpose, dtype: int64"
      ]
     },
     "execution_count": 60,
     "metadata": {},
     "output_type": "execute_result"
    }
   ],
   "source": [
    "# filtering the df for the 4 types of loans mentioned above\n",
    "main_purposes = [\"credit_card\",\"debt_consolidation\",\"home_improvement\",\"major_purchase\"]\n",
    "df = df[df['purpose'].isin(main_purposes)]\n",
    "df['purpose'].value_counts()"
   ]
  },
  {
   "cell_type": "code",
   "execution_count": 61,
   "metadata": {},
   "outputs": [
    {
     "data": {
      "image/png": "[encoded data removed]",
      "text/plain": [
       "<Figure size 432x288 with 1 Axes>"
      ]
     },
     "metadata": {
      "needs_background": "light"
     },
     "output_type": "display_data"
    }
   ],
   "source": [
    "# plotting number of loans by purpose \n",
    "sns.countplot(x=df['purpose'])\n",
    "plt.show()"
   ]
  },
  {
   "cell_type": "code",
   "execution_count": 62,
   "metadata": {},
   "outputs": [
    {
     "data": {
      "image/png": "[encoded data removed]",
      "text/plain": [
       "<Figure size 720x432 with 1 Axes>"
      ]
     },
     "metadata": {
      "needs_background": "light"
     },
     "output_type": "display_data"
    }
   ],
   "source": [
    "# let's now compare the default rates across two types of categorical variables\n",
    "# purpose of loan (constant) and another categorical variable (which changes)\n",
    "\n",
    "plt.figure(figsize=[10, 6])\n",
    "sns.barplot(x='term', y=\"loan_status\", hue='purpose', data=df)\n",
    "plt.show()\n"
   ]
  },
  {
   "cell_type": "code",
   "execution_count": 63,
   "metadata": {},
   "outputs": [
    {
     "data": {
      "image/png": "[encoded data removed]",
      "text/plain": [
       "<Figure size 720x432 with 1 Axes>"
      ]
     },
     "metadata": {
      "needs_background": "light"
     },
     "output_type": "display_data"
    }
   ],
   "source": [
    "# lets write a function which takes a categorical variable and plots the default rate\n",
    "# segmented by purpose \n",
    "\n",
    "def plot_segmented(cat_var):\n",
    "    plt.figure(figsize=(10, 6))\n",
    "    sns.barplot(x=cat_var, y='loan_status', hue='purpose', data=df)\n",
    "    plt.show()\n",
    "\n",
    "    \n",
    "plot_segmented('term')"
   ]
  },
  {
   "cell_type": "code",
   "execution_count": 64,
   "metadata": {},
   "outputs": [
    {
     "data": {
      "image/png": "[encoded data removed]",
      "text/plain": [
       "<Figure size 720x432 with 1 Axes>"
      ]
     },
     "metadata": {
      "needs_background": "light"
     },
     "output_type": "display_data"
    }
   ],
   "source": [
    "# grade of loan\n",
    "plot_segmented('grade')"
   ]
  },
  {
   "cell_type": "code",
   "execution_count": 65,
   "metadata": {},
   "outputs": [
    {
     "data": {
      "image/png": "[encoded data removed]",
      "text/plain": [
       "<Figure size 720x432 with 1 Axes>"
      ]
     },
     "metadata": {
      "needs_background": "light"
     },
     "output_type": "display_data"
    }
   ],
   "source": [
    "# home ownership\n",
    "plot_segmented('home_ownership')"
   ]
  },
  {
   "cell_type": "markdown",
   "metadata": {},
   "source": [
    "In general, debt consolidation loans have the highest default rates. Lets compare across other categories as well."
   ]
  },
  {
   "cell_type": "code",
   "execution_count": 66,
   "metadata": {},
   "outputs": [
    {
     "data": {
      "image/png": "[encoded data removed]",
      "text/plain": [
       "<Figure size 720x432 with 1 Axes>"
      ]
     },
     "metadata": {
      "needs_background": "light"
     },
     "output_type": "display_data"
    }
   ],
   "source": [
    "# year\n",
    "plot_segmented('year')"
   ]
  },
  {
   "cell_type": "code",
   "execution_count": 67,
   "metadata": {},
   "outputs": [
    {
     "data": {
      "image/png": "[encoded data removed]",
      "text/plain": [
       "<Figure size 720x432 with 1 Axes>"
      ]
     },
     "metadata": {
      "needs_background": "light"
     },
     "output_type": "display_data"
    }
   ],
   "source": [
    "# emp_length\n",
    "plot_segmented('emp_length')"
   ]
  },
  {
   "cell_type": "code",
   "execution_count": 68,
   "metadata": {},
   "outputs": [
    {
     "data": {
      "image/png": "[encoded data removed]",
      "text/plain": [
       "<Figure size 720x432 with 1 Axes>"
      ]
     },
     "metadata": {
      "needs_background": "light"
     },
     "output_type": "display_data"
    }
   ],
   "source": [
    "# loan_amnt: same trend across loan purposes\n",
    "plot_segmented('loan_amnt')"
   ]
  },
  {
   "cell_type": "code",
   "execution_count": 69,
   "metadata": {},
   "outputs": [
    {
     "data": {
      "image/png": "[encoded data removed]",
      "text/plain": [
       "<Figure size 720x432 with 1 Axes>"
      ]
     },
     "metadata": {
      "needs_background": "light"
     },
     "output_type": "display_data"
    }
   ],
   "source": [
    "# interest rate\n",
    "plot_segmented('int_rate')"
   ]
  },
  {
   "cell_type": "code",
   "execution_count": 70,
   "metadata": {},
   "outputs": [
    {
     "data": {
      "image/png": "[encoded data removed]",
      "text/plain": [
       "<Figure size 720x432 with 1 Axes>"
      ]
     },
     "metadata": {
      "needs_background": "light"
     },
     "output_type": "display_data"
    }
   ],
   "source": [
    "# installment\n",
    "plot_segmented('installment')"
   ]
  },
  {
   "cell_type": "code",
   "execution_count": 71,
   "metadata": {},
   "outputs": [
    {
     "data": {
      "image/png": "[encoded data removed]",
      "text/plain": [
       "<Figure size 720x432 with 1 Axes>"
      ]
     },
     "metadata": {
      "needs_background": "light"
     },
     "output_type": "display_data"
    }
   ],
   "source": [
    "# debt to income ratio\n",
    "plot_segmented('dti')"
   ]
  },
  {
   "cell_type": "code",
   "execution_count": 72,
   "metadata": {},
   "outputs": [
    {
     "data": {
      "image/png": "[encoded data removed]",
      "text/plain": [
       "<Figure size 720x432 with 1 Axes>"
      ]
     },
     "metadata": {
      "needs_background": "light"
     },
     "output_type": "display_data"
    }
   ],
   "source": [
    "# annual income\n",
    "plot_segmented('annual_inc')"
   ]
  },
  {
   "cell_type": "markdown",
   "metadata": {},
   "source": [
    "A good way to quantify th effect of a categorical variable on default rate is to see 'how much does the default rate vary across the categories'. \n",
    "\n",
    "Let's see an example using annual_inc as the categorical variable."
   ]
  },
  {
   "cell_type": "code",
   "execution_count": 73,
   "metadata": {},
   "outputs": [
    {
     "data": {
      "text/plain": [
       "annual_inc\n",
       "low          0.157966\n",
       "medium       0.130075\n",
       "very high    0.101570\n",
       "high         0.097749\n",
       "Name: loan_status, dtype: float64"
      ]
     },
     "execution_count": 73,
     "metadata": {},
     "output_type": "execute_result"
    }
   ],
   "source": [
    "# variation of default rate across annual_inc\n",
    "df.groupby('annual_inc').loan_status.mean().sort_values(ascending=False)"
   ]
  },
  {
   "cell_type": "code",
   "execution_count": 74,
   "metadata": {},
   "outputs": [
    {
     "name": "stdout",
     "output_type": "stream",
     "text": [
      "annual_inc\n",
      "low          0.16\n",
      "medium       0.13\n",
      "very high    0.10\n",
      "high         0.10\n",
      "Name: loan_status, dtype: float64\n",
      "0.06\n"
     ]
    }
   ],
   "source": [
    "# one can write a function which takes in a categorical variable and computed the average \n",
    "# default rate across the categories\n",
    "# It can also compute the 'difference between the highest and the lowest default rate' across the \n",
    "# categories, which is a decent metric indicating the effect of the varaible on default rate\n",
    "\n",
    "def diff_rate(cat_var):\n",
    "    default_rates = df.groupby(cat_var).loan_status.mean().sort_values(ascending=False)\n",
    "    return (round(default_rates, 2), round(default_rates[0] - default_rates[-1], 2))\n",
    "\n",
    "default_rates, diff = diff_rate('annual_inc')\n",
    "print(default_rates) \n",
    "print(diff)\n"
   ]
  },
  {
   "cell_type": "markdown",
   "metadata": {},
   "source": [
    "Thus, there is a 6% increase in default rate as you go from high to low annual income. We can compute this difference for all the variables and roughly identify the ones that affect default rate the most."
   ]
  },
  {
   "cell_type": "code",
   "execution_count": 75,
   "metadata": {},
   "outputs": [
    {
     "name": "stdout",
     "output_type": "stream",
     "text": [
      "['id', 'member_id', 'loan_amnt', 'funded_amnt', 'funded_amnt_inv', 'term', 'int_rate', 'installment', 'grade', 'sub_grade', 'emp_title', 'emp_length', 'home_ownership', 'annual_inc', 'verification_status', 'issue_d', 'loan_status', 'pymnt_plan', 'purpose', 'dti', 'initial_list_status', 'collections_12_mths_ex_med', 'policy_code', 'acc_now_delinq', 'chargeoff_within_12_mths', 'delinq_amnt', 'pub_rec_bankruptcies', 'tax_liens', 'month', 'year']\n"
     ]
    },
    {
     "name": "stderr",
     "output_type": "stream",
     "text": [
      "C:\\Users\\padma\\Anaconda3\\lib\\site-packages\\ipykernel_launcher.py:3: SettingWithCopyWarning: \n",
      "A value is trying to be set on a copy of a slice from a DataFrame.\n",
      "Try using .loc[row_indexer,col_indexer] = value instead\n",
      "\n",
      "See the caveats in the documentation: http://pandas.pydata.org/pandas-docs/stable/indexing.html#indexing-view-versus-copy\n",
      "  This is separate from the ipykernel package so we can avoid doing imports until\n"
     ]
    }
   ],
   "source": [
    "# filtering all the object type variables\n",
    "df_categorical = df.loc[:, df.dtypes == object]\n",
    "df_categorical['loan_status'] = df['loan_status']\n",
    "\n",
    "# Now, for each variable, we can compute the incremental diff in default rates\n",
    "print([i for i in df.columns])"
   ]
  },
  {
   "cell_type": "code",
   "execution_count": 77,
   "metadata": {},
   "outputs": [
    {
     "name": "stdout",
     "output_type": "stream",
     "text": [
      "{'loan_amnt': 7.000000000000001, 'funded_amnt': 5.0, 'funded_amnt_inv': 6.0, 'term': 15.0, 'int_rate': 19.0, 'installment': 3.0, 'grade': 27.0, 'sub_grade': 46.0, 'emp_title': 100.0, 'emp_length': 2.0, 'home_ownership': 16.0, 'annual_inc': 6.0, 'verification_status': 4.0, 'pymnt_plan': 0.0, 'purpose': 5.0, 'dti': 5.0, 'initial_list_status': 0.0}\n"
     ]
    }
   ],
   "source": [
    "# storing the diff of default rates for each column in a dict\n",
    "d = {key: diff_rate(key)[1]*100 for key in df_categorical.columns if key != 'loan_status'}\n",
    "print(d)"
   ]
  }
 ],
 "metadata": {
  "kernelspec": {
   "display_name": "Python 3",
   "language": "python",
   "name": "python3"
  },
  "language_info": {
   "codemirror_mode": {
    "name": "ipython",
    "version": 3
   },
   "file_extension": ".py",
   "mimetype": "text/x-python",
   "name": "python",
   "nbconvert_exporter": "python",
   "pygments_lexer": "ipython3",
   "version": "3.7.3"
  }
 },
 "nbformat": 4,
 "nbformat_minor": 2
}
